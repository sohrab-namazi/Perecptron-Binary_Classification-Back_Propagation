{
  "nbformat": 4,
  "nbformat_minor": 0,
  "metadata": {
    "colab": {
      "name": "CI992_HW1.ipynb",
      "provenance": [],
      "collapsed_sections": [
        "heBxPYfc0U22"
      ],
      "toc_visible": true,
      "include_colab_link": true
    },
    "kernelspec": {
      "display_name": "Python 3",
      "language": "python",
      "name": "python3"
    },
    "language_info": {
      "codemirror_mode": {
        "name": "ipython",
        "version": 3
      },
      "file_extension": ".py",
      "mimetype": "text/x-python",
      "name": "python",
      "nbconvert_exporter": "python",
      "pygments_lexer": "ipython3",
      "version": "3.8.7"
    },
    "accelerator": "GPU"
  },
  "cells": [
    {
      "cell_type": "markdown",
      "metadata": {
        "id": "view-in-github",
        "colab_type": "text"
      },
      "source": [
        "<a href=\"https://colab.research.google.com/github/sohrab-namazi/Perecptron-Binary_Classification-Back_Propagation/blob/main/CI992_HW1.ipynb\" target=\"_parent\"><img src=\"https://colab.research.google.com/assets/colab-badge.svg\" alt=\"Open In Colab\"/></a>"
      ]
    },
    {
      "cell_type": "markdown",
      "metadata": {
        "id": "heBxPYfc0U22"
      },
      "source": [
        "# Sohrab Namazinia\n",
        "\n"
      ]
    },
    {
      "cell_type": "markdown",
      "metadata": {
        "id": "UBD007b3-ntJ"
      },
      "source": [
        "# Perceptron"
      ]
    },
    {
      "cell_type": "code",
      "metadata": {
        "id": "rld-5wsb1gZS"
      },
      "source": [
        "# Q1_graded\n",
        "# Do not change the above line.\n",
        "\n",
        "# This cell is for your imports.\n",
        "\n",
        "import numpy as np\n",
        "import matplotlib.pyplot as plt"
      ],
      "execution_count": null,
      "outputs": []
    },
    {
      "cell_type": "code",
      "metadata": {
        "colab": {
          "base_uri": "https://localhost:8080/"
        },
        "id": "PKs23FTj_SI8",
        "outputId": "e352620f-f6f1-4013-a2df-2dc94d815af2"
      },
      "source": [
        "# Q1_graded\n",
        "# Do not change the above line.\n",
        "\n",
        "# This cell is for your codes.\n",
        "\n",
        "# because of the simplicity of this problem, i have used perceptron algorithm \n",
        "\n",
        "# set NOR data\n",
        "# i have used -1 as logical zero and 1 as logical 1\n",
        "dataset = np.array(([-1, -1, 1], [-1, 1, -1], [1, -1, -1], [1, 1, -1]), dtype=\"double\")\n",
        "Y = dataset[:, 2]\n",
        "X = dataset[:, 0:2]\n",
        "\n",
        "# add bias input (it is always is 1) to X elements\n",
        "bias_input = np.ones((4, 1), dtype=\"double\");\n",
        "X = np.hstack((bias_input, X))\n",
        "\n",
        "# random weight initialization\n",
        "W = np.random.rand(3)\n",
        "# learning rate\n",
        "alpha = 0.1\n",
        "# set epoch \n",
        "epoch_count = 100000\n",
        "epoch = 0\n",
        "\n",
        "\n",
        "# weights before training\n",
        "print(\"Weights before training:\")\n",
        "for i in range(3):\n",
        "  if i == 0:\n",
        "    print(\"\\tbias : \" + str(W[i]))\n",
        "  \n",
        "  else:\n",
        "    print(\"\\tW\" + str(i) + \" : \" + str(W[i]))"
      ],
      "execution_count": null,
      "outputs": [
        {
          "output_type": "stream",
          "text": [
            "Weights before training:\n",
            "\tbias : 0.617801570644111\n",
            "\tW1 : 0.24726908818517612\n",
            "\tW2 : 0.35420471602740466\n"
          ],
          "name": "stdout"
        }
      ]
    },
    {
      "cell_type": "code",
      "metadata": {
        "colab": {
          "base_uri": "https://localhost:8080/"
        },
        "id": "g5ISMYZ7_S2X",
        "outputId": "21d4e330-ad2d-488d-df4c-f26f9d251763"
      },
      "source": [
        "# Q1_graded\n",
        "# Do not change the above line.\n",
        "\n",
        "# This cell is for your codes.\n",
        "while epoch < epoch_count:\n",
        "  data_index = 0\n",
        "  for x in X:\n",
        "    # comput y\n",
        "    y = np.dot(x, W)\n",
        "    y = np.sign(y)\n",
        "    # compute desired response\n",
        "    d = Y[data_index]\n",
        "    error = d - y\n",
        "    W += alpha * error * x\n",
        "    data_index += 1\n",
        "  # next epoch\n",
        "  epoch += 1\n",
        "\n",
        "# wights after training\n",
        "print(\"Weights after training:\")\n",
        "for i in range(3):\n",
        "  if i == 0:\n",
        "    print(\"bias : \" + str(W[i]))\n",
        "  \n",
        "  else:\n",
        "    print(\"W\" + str(i) + \" : \" + str(W[i]))\n",
        "\n",
        "print(\"\\n\")\n",
        "\n",
        "# test the data with updated weights\n",
        "for x in X:\n",
        "  dot = np.dot(x, W)\n",
        "  Class = 0\n",
        "  if dot > 0:\n",
        "    Class = 1\n",
        "  print(str(x[1:]) + \":\\n\\t\" + \"W.X = \" + str(dot) + \" => \" + str(Class))\n",
        "  "
      ],
      "execution_count": null,
      "outputs": [
        {
          "output_type": "stream",
          "text": [
            "Weights after training:\n",
            "bias : -0.18219842935588904\n",
            "W1 : -0.1527309118148239\n",
            "W2 : -0.04579528397259536\n",
            "\n",
            "\n",
            "[-1. -1.]:\n",
            "\tW.X = 0.016327766431530222 => 1\n",
            "[-1.  1.]:\n",
            "\tW.X = -0.0752628015136605 => 0\n",
            "[ 1. -1.]:\n",
            "\tW.X = -0.2891340571981176 => 0\n",
            "[1. 1.]:\n",
            "\tW.X = -0.3807246251433083 => 0\n"
          ],
          "name": "stdout"
        }
      ]
    },
    {
      "cell_type": "markdown",
      "metadata": {
        "id": "VAAR47H8-5ML"
      },
      "source": [
        "# Binary Classification"
      ]
    },
    {
      "cell_type": "code",
      "metadata": {
        "id": "LV7Xa2Sx-6cV"
      },
      "source": [
        "# Q2_graded\n",
        "# Do not change the above line.\n",
        "\n",
        "# This cell is for your imports.\n",
        "\n",
        "import numpy as np\n",
        "import matplotlib.pyplot as plt"
      ],
      "execution_count": null,
      "outputs": []
    },
    {
      "cell_type": "code",
      "metadata": {
        "colab": {
          "base_uri": "https://localhost:8080/"
        },
        "id": "bMIDe8oc_TLW",
        "outputId": "5f75d1e5-4809-4d66-b0d0-d9188aa2b56e"
      },
      "source": [
        "# Q2_graded\n",
        "# Do not change the above line.\n",
        "\n",
        "# This cell is for your codes.\n",
        "\n",
        "# i have used Adaline algorithm for this problem\n",
        "\n",
        "# fetch data \n",
        "data = np.loadtxt('data.txt', delimiter=',')\n",
        "X = data[:, 0:2]\n",
        "Y = data[:, 2]\n",
        "data_count = len(Y)\n",
        "feature_count = 2\n",
        "\n",
        "# convert 0s to -1s in Y\n",
        "for i in range(data_count):\n",
        "  if (Y[i] == 0):\n",
        "    Y[i] = -1\n",
        "\n",
        "# add bias\n",
        "bias_input = np.ones((data_count, 1), dtype=\"double\");\n",
        "X = np.hstack((bias_input, X))\n",
        "\n",
        "# random weight initialization\n",
        "W = np.random.rand(feature_count + 1)\n",
        "# learning rate\n",
        "alpha = 1\n",
        "# set epoch \n",
        "epoch_count = 50000\n",
        "epoch = 0\n",
        "\n",
        "# weights before training\n",
        "print(\"Weights before training:\")\n",
        "for i in range(3):\n",
        "  if i == 0:\n",
        "    print(\"\\tbias : \" + str(W[i]))\n",
        "  \n",
        "  else:\n",
        "    print(\"\\tW\" + str(i) + \" : \" + str(W[i]))\n",
        "\n",
        "# store errors for ploting it in the next cell\n",
        "error_storage = []\n",
        "\n",
        "# Perceptron\n",
        "while (epoch < epoch_count):\n",
        "  alpha = (1 / (epoch + 1));\n",
        "  data_index = 0\n",
        "  epoch_error = 0.0\n",
        "  for x in X:\n",
        "    d = Y[data_index]\n",
        "    y = np.dot(x, W)\n",
        "    activated = np.sign(y)\n",
        "    error = d - activated\n",
        "    if abs(error) == 2:\n",
        "     epoch_error += 1;\n",
        "    W += alpha * x * error \n",
        "    data_index += 1\n",
        "  #average_error /= data_count\n",
        "  error_storage.append(epoch_error)\n",
        "  epoch += 1\n",
        "\n",
        "print(\"\\n\")\n",
        "\n",
        "# wights after training\n",
        "print(\"Weights after training:\")\n",
        "for i in range(3):\n",
        "  if i == 0:\n",
        "    print(\"\\tbias : \" + str(W[i]))\n",
        "  \n",
        "  else:\n",
        "    print(\"\\tW\" + str(i) + \" : \" + str(W[i]))\n"
      ],
      "execution_count": null,
      "outputs": [
        {
          "output_type": "stream",
          "text": [
            "Weights before training:\n",
            "\tbias : 0.6314323924364726\n",
            "\tW1 : 0.16809802959391829\n",
            "\tW2 : 0.35013208401540574\n",
            "\n",
            "\n",
            "Weights after training:\n",
            "\tbias : -138.75113089638103\n",
            "\tW1 : -0.5639000300761704\n",
            "\tW2 : 0.4205617358552681\n"
          ],
          "name": "stdout"
        }
      ]
    },
    {
      "cell_type": "code",
      "metadata": {
        "id": "M5auUdYc_Tc0",
        "colab": {
          "base_uri": "https://localhost:8080/",
          "height": 577
        },
        "outputId": "b4b85177-ac97-4bb1-cdea-e9a9faa7ebd9"
      },
      "source": [
        "# Q2_graded\n",
        "# Do not change the above line.\n",
        "\n",
        "# This cell is for your codes.\n",
        "\n",
        "# plot classification\n",
        "x = np.linspace(-200.,60.)\n",
        "fig, ax = plt.subplots()\n",
        "ax.plot(x,(-W[1]*x - W[0]) / W[2], color=\"green\")\n",
        "Xx = [x[1] for x in X]\n",
        "Xy = [x[2] for x in X]\n",
        "ax.set_xlim((-210.,10.))\n",
        "for i in range(data_count):\n",
        "  if Y[i] == 1:\n",
        "    plt.scatter(Xx[i], Xy[i], color=\"red\")\n",
        "  else:\n",
        "    plt.scatter(Xx[i], Xy[i], color= \"blue\")\n",
        "plt.title(\"Sohrab Binary Classification\", fontsize=20, color=\"green\")\n",
        "plt.xlabel('x')\n",
        "plt.ylabel('y')\n",
        "ax.text(-40, 200, 'Blue: 0\\nRed: 1', bbox={'facecolor': 'yellow', 'alpha': 0.5, 'pad': 10})\n",
        "plt.show()\n",
        "\n",
        "# plot error decay by iteration\n",
        "plt.plot(np.arange(epoch_count), error_storage)\n",
        "plt.title(\"Average error per iteration\", color=\"green\")\n",
        "plt.xlabel('epoch')\n",
        "plt.ylabel('Error')\n",
        "plt.show()\n"
      ],
      "execution_count": null,
      "outputs": [
        {
          "output_type": "display_data",
          "data": {
            "image/png": "[encoded data removed]",
            "text/plain": [
              "<Figure size 432x288 with 1 Axes>"
            ]
          },
          "metadata": {
            "tags": [],
            "needs_background": "light"
          }
        },
        {
          "output_type": "display_data",
          "data": {
            "image/png": "[encoded data removed]",
            "text/plain": [
              "<Figure size 432x288 with 1 Axes>"
            ]
          },
          "metadata": {
            "tags": [],
            "needs_background": "light"
          }
        }
      ]
    },
    {
      "cell_type": "markdown",
      "metadata": {
        "id": "gMWCmByc-7H5"
      },
      "source": [
        "# MLP"
      ]
    },
    {
      "cell_type": "code",
      "metadata": {
        "id": "wpWMwI6z--GX"
      },
      "source": [
        "# Q4_graded\n",
        "# Do not change the above line.\n",
        "\n",
        "# This cell is for your imports.\n",
        "\n",
        "from keras.layers import *\n",
        "from keras.optimizers import *\n",
        "from keras.models import Sequential\n",
        "from keras.datasets import mnist\n",
        "import numpy as np\n",
        "import matplotlib.pyplot as plt\n",
        "from keras.utils import to_categorical"
      ],
      "execution_count": null,
      "outputs": []
    },
    {
      "cell_type": "code",
      "metadata": {
        "id": "kTmDh0Tw_Tuy",
        "colab": {
          "base_uri": "https://localhost:8080/"
        },
        "outputId": "b8d47062-0cf5-4e0e-f474-cb8a28766d10"
      },
      "source": [
        "# Q4_graded\n",
        "# Do not change the above line.\n",
        "\n",
        "# This cell is for your codes.\n",
        "\n",
        "# fetch data\n",
        "(x_train, y_train), (x_test, y_test) = mnist.load_data()\n",
        "row_column_size = len(x_train[0])\n",
        "feature_count = row_column_size * row_column_size\n",
        "max_pixel_value = 255\n",
        "train_data_count = len(y_train)\n",
        "test_data_count = len(y_test)\n",
        "batch_size = int(train_data_count / 100)\n",
        "\n",
        "# method for giving the proper data to our NN.\n",
        "def reformat_data(x_train, y_train, x_test, y_test):\n",
        "  x_train_reformatted = x_train.reshape((train_data_count, feature_count))\n",
        "  x_train_reformatted = x_train_reformatted.astype(float)\n",
        "  x_train_reformatted /= max_pixel_value\n",
        "  x_test_reformatted = x_test.reshape((test_data_count, feature_count))\n",
        "  x_test_reformatted = x_test_reformatted.astype(float)\n",
        "  x_test_reformatted /= max_pixel_value\n",
        "  y_train_reformatted = to_categorical(y_train)\n",
        "  y_test_reformatted = to_categorical(y_test)\n",
        "  return (x_train_reformatted, y_train_reformatted), (x_test_reformatted, y_test_reformatted)\n",
        "\n",
        "\n",
        "# build NN\n",
        "network = Sequential()\n",
        "network.add(Dense(feature_count, activation='relu', input_shape=(feature_count,)))\n",
        "network.add(Dense(feature_count, activation='relu', input_shape=(feature_count,)))\n",
        "network.add(Dense(10, activation=\"softmax\"))\n",
        "\n",
        "# compile NN\n",
        "network.compile(optimizer=\"adam\", loss=\"categorical_crossentropy\", metrics=[\"accuracy\"])\n",
        "\n",
        "# prepare well-formatted data\n",
        "(x_train_reformatted, y_train_reformatted), (x_test_reformatted, y_test_reformatted) = reformat_data(x_train, y_train, x_test, y_test)\n",
        "\n",
        "# training\n",
        "history = network.fit(x_train_reformatted, y_train_reformatted, epochs=10, batch_size=batch_size)\n",
        "print(\"************************************************************************************\\n\")\n",
        "print(\"TRAINING IS DONE\\n\")\n",
        "\n",
        "# test\n",
        "loss, acc = network.evaluate(x_test_reformatted, y_test_reformatted)\n",
        "print(\"TEST IS DONE:\")\n",
        "print(\"Loss : \" + str(loss))\n",
        "print(\"Accruacy : \" + str(acc))"
      ],
      "execution_count": null,
      "outputs": [
        {
          "output_type": "stream",
          "text": [
            "Epoch 1/10\n",
            "100/100 [==============================] - 8s 76ms/step - loss: 0.6082 - accuracy: 0.8289\n",
            "Epoch 2/10\n",
            "100/100 [==============================] - 8s 76ms/step - loss: 0.1120 - accuracy: 0.9670\n",
            "Epoch 3/10\n",
            "100/100 [==============================] - 8s 76ms/step - loss: 0.0620 - accuracy: 0.9817\n",
            "Epoch 4/10\n",
            "100/100 [==============================] - 8s 76ms/step - loss: 0.0465 - accuracy: 0.9856\n",
            "Epoch 5/10\n",
            "100/100 [==============================] - 8s 75ms/step - loss: 0.0276 - accuracy: 0.9925\n",
            "Epoch 6/10\n",
            "100/100 [==============================] - 8s 76ms/step - loss: 0.0203 - accuracy: 0.9939\n",
            "Epoch 7/10\n",
            "100/100 [==============================] - 8s 76ms/step - loss: 0.0170 - accuracy: 0.9945\n",
            "Epoch 8/10\n",
            "100/100 [==============================] - 8s 76ms/step - loss: 0.0098 - accuracy: 0.9976\n",
            "Epoch 9/10\n",
            "100/100 [==============================] - 8s 76ms/step - loss: 0.0082 - accuracy: 0.9981\n",
            "Epoch 10/10\n",
            "100/100 [==============================] - 8s 76ms/step - loss: 0.0054 - accuracy: 0.9985\n",
            "************************************************************************************\n",
            "\n",
            "TRAINING IS DONE\n",
            "\n",
            "313/313 [==============================] - 1s 4ms/step - loss: 0.0678 - accuracy: 0.9815\n",
            "TEST IS DONE:\n",
            "Loss : 0.06777094304561615\n",
            "Accruacy : 0.9815000295639038\n"
          ],
          "name": "stdout"
        }
      ]
    },
    {
      "cell_type": "code",
      "metadata": {
        "id": "frBeD-ka_UAJ",
        "colab": {
          "base_uri": "https://localhost:8080/",
          "height": 573
        },
        "outputId": "4509d0d6-87b3-48e4-ea1e-24d46726703d"
      },
      "source": [
        "# Q4_graded\n",
        "# Do not change the above line.\n",
        "\n",
        "# This cell is for your codes.\n",
        "\n",
        "# plot accuracy graph\n",
        "plt.plot(history.history['accuracy'])\n",
        "plt.title('Accuracy graph')\n",
        "plt.ylabel('Accuracy')\n",
        "plt.xlabel('Epoch')\n",
        "plt.show()\n",
        "\n",
        "# plot loss graph\n",
        "plt.plot(history.history['loss'])\n",
        "plt.title('Loss graph')\n",
        "plt.ylabel('Loss')\n",
        "plt.xlabel('Epoch')\n",
        "plt.show()\n"
      ],
      "execution_count": null,
      "outputs": [
        {
          "output_type": "display_data",
          "data": {
            "image/png": "[encoded data removed]",
            "text/plain": [
              "<Figure size 432x288 with 1 Axes>"
            ]
          },
          "metadata": {
            "tags": [],
            "needs_background": "light"
          }
        },
        {
          "output_type": "display_data",
          "data": {
            "image/png": "[encoded data removed]",
            "text/plain": [
              "<Figure size 432x288 with 1 Axes>"
            ]
          },
          "metadata": {
            "tags": [],
            "needs_background": "light"
          }
        }
      ]
    },
    {
      "cell_type": "markdown",
      "metadata": {
        "id": "XYu2rMtB_FxI"
      },
      "source": [
        "# Back-Propagation"
      ]
    },
    {
      "cell_type": "code",
      "metadata": {
        "id": "zbCqds5p_Gx2"
      },
      "source": [
        "# Q5_graded\n",
        "# Do not change the above line.\n",
        "\n",
        "# This cell is for your imports\n",
        "import numpy as np\n",
        "from keras.datasets import mnist\n",
        "import matplotlib.pyplot as plt"
      ],
      "execution_count": null,
      "outputs": []
    },
    {
      "cell_type": "code",
      "metadata": {
        "id": "dGKzKr5iUsGS"
      },
      "source": [
        "# Q5_graded\n",
        "# Do not change the above line.\n",
        "\n",
        "# utility section \n",
        "# some useful variables and methods\n",
        "\n",
        "train_data_count = 60000\n",
        "max_pixel_value = 255\n",
        "feature_count = 28 * 28\n",
        "output_count = 10\n",
        "epoch_count = 1000\n",
        "acc_storage = []\n",
        "error_storage = []\n",
        "\n",
        "\n",
        "def hidden_activation(Z):\n",
        "    return np.maximum(Z, 0);\n",
        "\n",
        "def hidden_activation_derivation(Z):\n",
        "    return Z > 0;\n",
        "\n",
        "def softmax(Z):\n",
        "    A = np.exp(Z) / sum(np.exp(Z))\n",
        "    return A\n",
        "\n",
        "def evaluate(w1, b1, w2, b2, x):\n",
        "    z1 = w1.dot(x) + b1\n",
        "    a1 = hidden_activation(z1)\n",
        "    z2 = w2.dot(a1) + b2\n",
        "    a2 = softmax(z2)\n",
        "    return a2\n",
        "\n",
        "def get_predictions(activation_2):\n",
        "    return np.argmax(activation_2, 0)\n",
        "\n",
        "def one_hot_encode(Y):\n",
        "    one_hot_Y = np.zeros((Y.size, int(Y.max()) + 1))\n",
        "    one_hot_Y[np.arange(Y.size), Y] = 1\n",
        "    # return its transpose\n",
        "    one_hot_Y = one_hot_Y.T\n",
        "    return one_hot_Y\n",
        "\n",
        "def compute_accuracy(predictions, Y):\n",
        "    return np.sum(predictions == Y) / Y.size\n",
        "\n",
        "def compute_error(predictions, Y):\n",
        "    return np.sum(predictions != Y) / Y.size\n",
        "\n",
        "def print_epoch_result(i, acc, err):\n",
        "  if (i % 100 == 0) or (i == epoch_count - 1):\n",
        "    print(\"Epoch \" + str(i) + \":\\n\\tAccuracy = \" + str(acc))\n",
        "    print(\"\\tError = \" + str(err) + \"\\n\")"
      ],
      "execution_count": null,
      "outputs": []
    },
    {
      "cell_type": "code",
      "metadata": {
        "colab": {
          "base_uri": "https://localhost:8080/"
        },
        "id": "oviXNiPhkxVQ",
        "outputId": "6a3c6231-8f03-4239-cd51-12fe4188d614"
      },
      "source": [
        "# Q5_graded\n",
        "# Do not change the above line.\n",
        "\n",
        "# epochs and iterations on data\n",
        "\n",
        "def run(X, Y, epoch_count, learning_rate):\n",
        "    w1, b1 = (np.random.rand(output_count, feature_count) * 2) - 1, (np.random.rand(output_count, 1) * 2) - 1\n",
        "    w2, b2 = (np.random.rand(output_count, output_count) * 2) - 1, (np.random.rand(output_count, 1) * 2) - 1\n",
        "    for i in range(epoch_count):\n",
        "        z1 = w1.dot(X) + b1\n",
        "        activation_1 = hidden_activation(z1)\n",
        "        z2 = w2.dot(activation_1) + b2\n",
        "        activation_2 = softmax(z2)\n",
        "        one_hot_Y = one_hot_encode(Y)\n",
        "        diff_2 = activation_2 - one_hot_Y\n",
        "        dw2 = 1 / train_data_count * diff_2.dot(activation_1.T)\n",
        "        db2 = 1 / train_data_count * np.sum(diff_2)\n",
        "        diff_1 = hidden_activation_derivation(z1) * w2.T.dot(diff_2)  \n",
        "        dw1 = 1 / train_data_count * diff_1.dot(X.T)\n",
        "        db1 = 1 / train_data_count * np.sum(diff_1)\n",
        "        w1 -= learning_rate * dw1\n",
        "        w2 -= learning_rate * dw2\n",
        "        b1 -= learning_rate * db1\n",
        "        b2 -= learning_rate * db2\n",
        "        predictions = get_predictions(activation_2)\n",
        "        acc = compute_accuracy(predictions, Y)\n",
        "        err = compute_error(predictions, Y)\n",
        "        error_storage.append(err)\n",
        "        acc_storage.append(acc)\n",
        "        print_epoch_result(i, acc, err)\n",
        "    return (b1, w1), (b2, w2)\n",
        "\n",
        "(x_train, y_train), (x_test, y_test) = mnist.load_data()\n",
        "x_train = x_train.reshape(len(x_train), feature_count)\n",
        "input_data = np.hstack((x_train, y_train.reshape(len(y_train), 1)))\n",
        "np.random.shuffle(input_data)\n",
        "x_train = input_data[:, :-1]\n",
        "y_train = input_data[:, -1]\n",
        "x_train = x_train / max_pixel_value\n",
        "x_train = x_train.T\n",
        "(b1, w1), (b2, w2) = run(x_train, y_train, epoch_count, 0.1)\n",
        "print(\"****************\\nTraining finished!\\n****************\\n\")\n"
      ],
      "execution_count": null,
      "outputs": [
        {
          "output_type": "stream",
          "text": [
            "Epoch 0:\n",
            "\tAccuracy = 0.12298333333333333\n",
            "\tError = 0.8770166666666667\n",
            "\n",
            "Epoch 100:\n",
            "\tAccuracy = 0.31888333333333335\n",
            "\tError = 0.6811166666666667\n",
            "\n",
            "Epoch 200:\n",
            "\tAccuracy = 0.4074333333333333\n",
            "\tError = 0.5925666666666667\n",
            "\n",
            "Epoch 300:\n",
            "\tAccuracy = 0.49225\n",
            "\tError = 0.50775\n",
            "\n",
            "Epoch 400:\n",
            "\tAccuracy = 0.5885666666666667\n",
            "\tError = 0.4114333333333333\n",
            "\n",
            "Epoch 500:\n",
            "\tAccuracy = 0.6632166666666667\n",
            "\tError = 0.3367833333333333\n",
            "\n",
            "Epoch 600:\n",
            "\tAccuracy = 0.7103833333333334\n",
            "\tError = 0.2896166666666667\n",
            "\n",
            "Epoch 700:\n",
            "\tAccuracy = 0.7441\n",
            "\tError = 0.2559\n",
            "\n",
            "Epoch 800:\n",
            "\tAccuracy = 0.7160833333333333\n",
            "\tError = 0.28391666666666665\n",
            "\n",
            "Epoch 900:\n",
            "\tAccuracy = 0.7663\n",
            "\tError = 0.2337\n",
            "\n",
            "Epoch 999:\n",
            "\tAccuracy = 0.7765333333333333\n",
            "\tError = 0.22346666666666667\n",
            "\n",
            "****************\n",
            "Training finished!\n",
            "****************\n",
            "\n"
          ],
          "name": "stdout"
        }
      ]
    },
    {
      "cell_type": "code",
      "metadata": {
        "colab": {
          "base_uri": "https://localhost:8080/",
          "height": 573
        },
        "id": "xSOGkQy2fnrr",
        "outputId": "17b36955-5679-40ad-92af-8ab2a938250e"
      },
      "source": [
        "# Q5_graded\n",
        "# Do not change the above line.\n",
        "\n",
        "# plot result\n",
        "plt.plot(np.arange(epoch_count), error_storage)\n",
        "plt.title(\"error rate per iteration\", color=\"green\")\n",
        "plt.xlabel('epoch')\n",
        "plt.ylabel('Error')\n",
        "plt.show()\n",
        "\n",
        "plt.plot(np.arange(epoch_count), acc_storage)\n",
        "plt.title(\"Accuracy rate per iteration\", color=\"green\")\n",
        "plt.xlabel('epoch')\n",
        "plt.ylabel('Accuracy')\n",
        "plt.show()\n",
        "\n",
        "# evaluate\n",
        "x_test = x_test.reshape(len(x_test), feature_count)\n",
        "input_data = np.hstack((x_test, y_test.reshape(len(y_test), 1)))\n",
        "np.random.shuffle(input_data)\n",
        "x_test = input_data[:, :-1]\n",
        "y_test = input_data[:, -1]\n",
        "x_test = x_test / max_pixel_value\n",
        "x_test = x_test.T\n",
        "w1, b1 = (np.random.rand(output_count, feature_count) * 2) - 1, (np.random.rand(output_count, 1) * 2) - 1\n",
        "w2, b2 = (np.random.rand(output_count, output_count) * 2) - 1, (np.random.rand(output_count, 1) * 2) - 1\n",
        "z1 = w1.dot(x_test) + b1\n",
        "activation_1 = hidden_activation(z1)\n",
        "z2 = w2.dot(activation_1) + b2\n",
        "activation_2 = softmax(z2)\n",
        "predictions = get_predictions(activation_2)"
      ],
      "execution_count": null,
      "outputs": [
        {
          "output_type": "display_data",
          "data": {
            "image/png": "[encoded data removed]",
            "text/plain": [
              "<Figure size 432x288 with 1 Axes>"
            ]
          },
          "metadata": {
            "tags": [],
            "needs_background": "light"
          }
        },
        {
          "output_type": "display_data",
          "data": {
            "image/png": "[encoded data removed]",
            "text/plain": [
              "<Figure size 432x288 with 1 Axes>"
            ]
          },
          "metadata": {
            "tags": [],
            "needs_background": "light"
          }
        }
      ]
    }
  ]
}